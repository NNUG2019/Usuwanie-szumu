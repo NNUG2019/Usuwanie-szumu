{
  "nbformat": 4,
  "nbformat_minor": 0,
  "metadata": {
    "kernelspec": {
      "display_name": "Python 3",
      "language": "python",
      "name": "python3"
    },
    "language_info": {
      "codemirror_mode": {
        "name": "ipython",
        "version": 3
      },
      "file_extension": ".py",
      "mimetype": "text/x-python",
      "name": "python",
      "nbconvert_exporter": "python",
      "pygments_lexer": "ipython3",
      "version": "3.7.4"
    },
    "colab": {
      "name": "Copy of SprawozdanieLaboratorium.ipynb",
      "provenance": [],
      "collapsed_sections": []
    }
  },
  "cells": [
    {
      "cell_type": "markdown",
      "metadata": {
        "id": "OUArRiJUjztm",
        "colab_type": "text"
      },
      "source": [
        "# Sprawozdanie z laboratorium - sieci neuronowe\n",
        "\n",
        "Temat: Usuwanie szumu z obrazków\n",
        "\n",
        "Skład grupy: Anna Cieszyńska, Karolina Borzym, Ewa Bojke"
      ]
    },
    {
      "cell_type": "markdown",
      "metadata": {
        "id": "P-TtarhYjztv",
        "colab_type": "text"
      },
      "source": [
        "## Opis zadania\n",
        "\n",
        "- Na czym polega zadanie?\n",
        "\n",
        " Zadanie polega na usunięciu szumu z obrazków mając do dyspozycji zaszumione obrazki i wyczyszczone obrazki.\n",
        "\n",
        "- Jaki jest cel modelu?\n",
        "\n",
        "  Szukamy najlepszego dopasowania cech i znalezienia odszumionego obrazka za pomocą łaczenia cech w siec, potem nałożenia maski.\n",
        "\n",
        "\n",
        "\n",
        "- Wzór na konwulucję w sieciach neuronowych:\n",
        "![alt text](https://4.bp.blogspot.com/-wS-B1jiy2sw/WnDgi3h_-UI/AAAAAAABB5k/G0HFUWYzIjMTOFlkxsbz2QOlbodGcofrACLcBGAs/s400/Przechwytywanie.PNG)\n",
        "\n",
        "  I   -  wartości pikseli obrazu\n",
        "\n",
        "  K   -  oznaczenia cech (0,1)\n",
        "\n",
        "  I * K - sieć neuronowa konwolucyjna\n",
        "\n",
        "  W wyniku konwolucji obrazu z filtrem(cechą), otrzymamy nowy obraz, w   którym każdy piksel został utworzony na podstawie jego sąsiedztwa.\n",
        "\n",
        "\n",
        "## Dane\n",
        "\n",
        "  Opis badania danych - część 1 projektu.\n",
        "\n",
        "  Mamy obrazki z tekstem, które są odbarwione i niekształcone.           Posiadamy 129 obrazków,które będziemy porównywać, modyfikować i     testować.\n",
        "\n",
        "\n",
        "\n",
        "\n"
      ]
    },
    {
      "cell_type": "markdown",
      "metadata": {
        "id": "ikrcFhuljzt9",
        "colab_type": "text"
      },
      "source": [
        "### Źródła danych\n",
        "\n",
        "- Skąd są dane? Czy są publicznie dostępne, jeżeli tak to skąd można je uzyskać.\n",
        "\n",
        "  Jeżeli były wygenerowane samodzielnie, to jak powtórzyć ten proces.\n",
        "\n",
        "  Dane pobrane są ze strony kaggle.com. Mieliśmy tam foldery ze zdjęciami zaszumionymi,wyczyszczonymi,testowymi.Są publicznie dostępne.\n",
        "\n",
        "  \n",
        "\n"
      ]
    },
    {
      "cell_type": "markdown",
      "metadata": {
        "id": "oFDUDDbRjzuC",
        "colab_type": "text"
      },
      "source": [
        "## Model\n",
        "\n",
        "### Opis\n",
        "- Rodzaj sieci neuronowej (i dlaczego)\n",
        "  \n",
        "  Jest to sieć konwolucyjna(CNN). Pomaga nam wydobyc cechy obiektow widocznych    na zdjęciu. W naszym przypadku są to litery alfabetu.\n",
        "\n",
        "- Architektura są to warstwy gęstości.\n",
        "\n",
        "- Hiperparametry, funkcja kosztu \n",
        "\n",
        "  Hiperparametry są to ilosc neuronow (256,128), kernel(32 cechy, macierz 3x3),   ilosc epok(10),ilosc warstw gestosci(3), rodzaj f.aktywacji (\"relu\").\n",
        "  Parametry to wagi ktorych uczy sie model.\n",
        "\n",
        "### Działanie\n",
        "\n",
        "- Jak uruchomić model?\n",
        "\n",
        "  Mierzymy poziom zaszumienia licząc MSE pomiędzy czystym zdjęciem a           zaszumionym. Im mniejsze MSE tym dokładniejszy mamy model. Im mniejszy loss tym lepszy model.\n",
        "- Testy\n",
        " \n",
        " Testy robimy na danych treningowych a później na danych testowych. W danych  treningowych porównujemy zaszumione obrazki z wyczyszczonymi. W danych testowych można powiedzieć,że mamy \"obce\" obrazki, czyli takie, które model nie przetestował wcześniej i robimy to dopiero teraz.\n",
        "  Kolejne zdj przedstawia przykładowe obrazki z naszych danych \n",
        "  \n",
        "  - obrazek z szumem\n",
        "  \n",
        "  - obrazek wyczyszczony (do porównań)\n",
        "\n",
        "  - obrazek z maską\n",
        "\n",
        "  - obrazek bez szumu (wyczyszczony przez model)\n",
        "\n",
        "  ![alt text](https://gm1.ggpht.com/86BwISQ5s5-_Rcb-nEmkmkyel_Ug62iW9TXpFLzW7dJqt6ZtSbFWqW71WqQZKipuQDFyfuhm9pUkAqBxgavhA9wIHDl_XDmIFp_jUU5rg3pZJpOGmcrT8DDUpyF8clB9zelYFN72Il4uI9XXTDQfZQ8FrqTkONtWXN-eJUsPOBHuTgHohxCPqMMUHi2JEnvhs8G0jHQ55qvxhtwyI8PnHf2t-LzE-ypmBe84wJ6ux3SK0XlF2WG8m3yDnq9bRGbFsT7p0CjukZit581C_cWRzAX3uuGk096jAOPYMxzIq6pAmfE9u9b3L6S-VwH-dG-I-7l81yMoKmBnNHJTKWCoyvjFQeKdWxmzB9kOqHWTRFXN9jVAj4RspeePXNAWkR72JpGGpz_daR-bvavAZtrCg0jHdTGKwhLSgXtfzZNbkVO-l9fNL9AAmVf_uJo6xiPalpb0U4s2cNeDoaUYAwGbGdw4l-v8dTRFVO0nTyhjE0xmJmI24O6BorPnW5OW6hnZbXhLaM0CUNq_DNmoPlAqMsf2nkmDQuwMi4mJnaQLfWX46YQECTeOYwSOWY37h6Y9DNGpNoEHzzQOMrq6v_HhRMl3K_8ezNp20EkTfExPPs8nXzpIh6SMeBSxfejHd_7PWyjCEzrqMw1y0lqIXfXdb5aMVMlb2AC5QJn7nUehTUZ0LUyzLP1ud5stWJkc2RI3bEvXC3peDRX14os186x5Ltv389VQfz9eZ_Zo4fTJ2nVmZLi2Cl-rLhlG-kgl=s0-l75-ft-l75-ft)\n",
        "  \n",
        "  \n",
        "- Wyniki\n",
        "\n",
        "Zauważmy, że otrzymaliśmy bardzo dobre wyniki. Model się nie przeuczył a wyniki kosztu są bardzo małe(wyniki błedu) oraz wyniki MSE są małe.\n",
        " ![alt text](https://gm1.ggpht.com/vT-VSAqV-S70hVUwzku9AYLB8WziIXUMo7jz6-2hkVcbNOSNjY_RK4A028i0rBlKrLsDq6X9aQ_OgpC23S0S-yomFdsSOJ1sl8Ge_qf_fICkkuP2pFi1EmwrE1slvb_86nOlOtlga0WazoP_3GuazhRb5y7O5AWVbbjgAAvxtWRIvhIogo3zUncBScnWYymsijWjG1Ig9uYGRuyTM5Sz644_lCp_yO6JqEuT31Dirnq7SdvCN_JsPgXYkAAhJBGw-xeU45m8k3CDw3gRTLWMt7zbIk4kh6g3fXXerjSowVpjhqd0B1qYP3-B3n8ev5X3c88t__SBT5sKYVxJz26URWGw9Mj77yiVlPvtAWaJKn3x2kzKzG2ajLuyycKfiJmOJ1UzbmfJtDY271rrBPfrG270y6PviPGYV-PrFNKRxLdw-xCXqN4mRWjJ0rjHf4tKApW8TA0eGRtVJR_Dsrmwa7VZJ0KTj_xbjYXO83CFA9w2UmJ6BiCW4EPe_A1V6Ic8mYUsNf-4Os_sY_CrYwj_SMH1TG78Ati_6znLoITneBndD3IsNaBacqQhncKV6tN94d1UtrsYDhdpdaoGOMIrV62LmUa5T4PFIgEJSkGzMf_zmTjEuDUCSAzUWEeozfHp02DfQdt37YAy61ga7t7i7pChiYJ2Zw7tuS9PlKFfXwMVROCoU3gk1X0DbZsRdHkWVlz4nbPTc8GVYux99QI3y7MM8qP9aqN8QXvpM__Q2ovjNP9HpFPRM0EOS4lv=s0-l75-ft-l75-ft)"
      ]
    },
    {
      "cell_type": "markdown",
      "metadata": {
        "id": "HmPWgHRfjzuD",
        "colab_type": "text"
      },
      "source": [
        "\n",
        "\n",
        "Jak robili inni ?\n",
        "\n",
        "Inni mieli dodane większa ilośc wartsw gęstości i większa ilośc neuronów.\n",
        "My zrobiliśmy odwrotnie i dodaliśmy funkcje wyrzucającą połowe informacji z neuronów uzyskując w ten sposób lepszy efekt. Miał on na celu nie przeuczyć modelu."
      ]
    },
    {
      "cell_type": "markdown",
      "metadata": {
        "id": "eFQCCroejzuF",
        "colab_type": "text"
      },
      "source": [
        "## Podsumowanie\n",
        "\n",
        "Dzięki modelowi udało nam się wyczyścic zaszumione obrazki. Zauważamy wysokie prawdopodobieństwa prawidłowego usunięcia brudu w danych treningowych. Po uzyskaniu wyników kosztu z danych testowych widzimy, że model się nie przeuczył i otrzymaliśmy wysokie prawdopodobienstwa kosztu.\n",
        "\n"
      ]
    }
  ]
}