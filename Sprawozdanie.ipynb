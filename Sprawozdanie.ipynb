{
  "nbformat": 4,
  "nbformat_minor": 0,
  "metadata": {
    "kernelspec": {
      "display_name": "Python 3",
      "language": "python",
      "name": "python3"
    },
    "language_info": {
      "codemirror_mode": {
        "name": "ipython",
        "version": 3
      },
      "file_extension": ".py",
      "mimetype": "text/x-python",
      "name": "python",
      "nbconvert_exporter": "python",
      "pygments_lexer": "ipython3",
      "version": "3.7.4"
    },
    "colab": {
      "name": "Copy of SprawozdanieLaboratorium.ipynb",
      "provenance": [],
      "collapsed_sections": []
    }
  },
  "cells": [
    {
      "cell_type": "markdown",
      "metadata": {
        "id": "OUArRiJUjztm",
        "colab_type": "text"
      },
      "source": [
        "# Sprawozdanie z laboratorium - sieci neuronowe\n",
        "\n",
        "Temat: Usuwanie szumu z obrazków\n",
        "\n",
        "Skład grupy: Anna Cieszyńska, Karolina Borzym, Ewa Bojke"
      ]
    },
    {
      "cell_type": "markdown",
      "metadata": {
        "id": "P-TtarhYjztv",
        "colab_type": "text"
      },
      "source": [
        "## Opis zadania\n",
        "\n",
        "- Na czym polega zadanie?\n",
        "\n",
        " Zadanie polega na usunięciu szumu z obrazków mając do dyspozycji zaszumione obrazki i wyczyszczone obrazki.\n",
        "\n",
        "- Jaki jest cel modelu?\n",
        "\n",
        "  Szukamy najlepszego dopasowania cech i znalezienia odszumionego obrazka za pomocą łaczenia cech w siec, potem nałożenia maski.\n",
        "\n",
        "\n",
        "\n",
        "- Wzór na konwulucję w sieciach neuronowych:\n",
        "![alt text](https://4.bp.blogspot.com/-wS-B1jiy2sw/WnDgi3h_-UI/AAAAAAABB5k/G0HFUWYzIjMTOFlkxsbz2QOlbodGcofrACLcBGAs/s400/Przechwytywanie.PNG)\n",
        "\n",
        "  I   -  wartości pikseli obrazu\n",
        "\n",
        "  K   -  oznaczenia cech (0,1)\n",
        "\n",
        "  I * K - sieć neuronowa konwolucyjna\n",
        "\n",
        "  W wyniku konwolucji obrazu z filtrem(cechą), otrzymamy nowy obraz, w   którym każdy piksel został utworzony na podstawie jego sąsiedztwa.\n",
        "\n",
        "\n",
        "## Dane\n",
        "\n",
        "  Opis badania danych - część 1 projektu.\n",
        "\n",
        "  Mamy obrazki z tekstem, które są odbarwione i niekształcone.           Posiadamy 129 obrazków,które będziemy porównywać, modyfikować i     testować.\n",
        "\n",
        "\n",
        "\n",
        "\n"
      ]
    },
    {
      "cell_type": "markdown",
      "metadata": {
        "id": "ikrcFhuljzt9",
        "colab_type": "text"
      },
      "source": [
        "### Źródła danych\n",
        "\n",
        "- Skąd są dane? Czy są publicznie dostępne, jeżeli tak to skąd można je uzyskać.\n",
        "\n",
        "  Jeżeli były wygenerowane samodzielnie, to jak powtórzyć ten proces.\n",
        "\n",
        "  Dane pobrane są ze strony kaggle.com. Mieliśmy tam foldery ze zdjęciami zaszumionymi,wyczyszczonymi,testowymi.Są publicznie dostępne.\n",
        "\n",
        "  \n",
        "\n"
      ]
    },
    {
      "cell_type": "markdown",
      "metadata": {
        "id": "oFDUDDbRjzuC",
        "colab_type": "text"
      },
      "source": [
        "## Model\n",
        "\n",
        "### Opis\n",
        "- Rodzaj sieci neuronowej (i dlaczego)\n",
        "  \n",
        "  Jest to sieć konwolucyjna(CNN). Pomaga nam wydobyc cechy obiektow widocznych    na zdjęciu. W naszym przypadku są to litery alfabetu.\n",
        "\n",
        "- Architektura są to warstwy gęstości.\n",
        "\n",
        "- Hiperparametry, funkcja kosztu \n",
        "\n",
        "  Hiperparametry są to ilosc neuronow (256,128), kernel(32 cechy, macierz 3x3),   ilosc epok(10),ilosc warstw gestosci(3), rodzaj f.aktywacji (\"relu\").\n",
        "  Parametry to wagi ktorych uczy sie model.\n",
        "\n",
        "### Działanie\n",
        "\n",
        "- Jak uruchomić model?\n",
        "\n",
        "  Mierzymy poziom zaszumienia licząc MSE pomiędzy czystym zdjęciem a           zaszumionym. Im mniejsze MSE tym dokładniejszy mamy model. Im mniejszy loss tym lepszy model.\n",
        "- Testy\n",
        " \n",
        " Testy robimy na danych treningowych a później na danych testowych. W danych  treningowych porównujemy zaszumione obrazki z wyczyszczonymi. W danych testowych można powiedzieć,że mamy \"obce\" obrazki, czyli takie, które model nie przetestował wcześniej i robimy to dopiero teraz.\n",
        "  Kolejne zdjęcie przedstawia przykładowe obrazki z naszych danych \n",
        "  \n",
        "  - obrazek z szumem\n",
        "  \n",
        "  - obrazek wyczyszczony (do porównań)\n",
        "\n",
        "  - obrazek z maską\n",
        "\n",
        "  - obrazek bez szumu (wyczyszczony przez model)\n",
        "\n",
        "    [images](https://gm1.ggpht.com/dvAhW5reWBAClVX9k_qDXszlPT3oyuD882c7xJW6j6hIlTSzcyXBv0NlAJfg-VC17LHIXg3BDytfxKirT7juA3ZG7tUM5IO2m3l5IcONIPQlDawMBfOWibMq_SaxDDrCUuVk6HZjL2mlLSSNNWYlaLhUs3Gtubk9p_fHMiLjSlkXS6KGFygXRL1E80LMI7CcdrI0xA4ei28WQ13uvfOTG6P-MeKqlt4egds0hQO3naV8TMTX3pXuUC19Kvv2dYgpP1dkNXtJZ6_ZOMh-Ig3J_so0_i2OaJArUCfMTJbvJO6-TBKS15iNbKx6g8h7rKpZfBS0iRwX6Ace9-HwTiRHWtOqd9p_8uwOiON-Zquv45rCSSIKTRYPYs9FL48iQa6mi7qJf-wlnzZTzsVQfDyetfUgNa__aifyDRibn7KPIR15jvyt-ODgIPxMsez2lfom59Jl8Nno4ub1d2qsz0sNgEwleIIqt_-le66VPnd8sDwpRTRPW17PvvQj2xV8cAhkTcHt5VDly6YFpknaUX4aBI93Q5bDZSGVhMJ8kwGQ7XDTBbXIEYmeFTSL8_SMTXeIDuAzPpurOy0VfFK_eUMboueWBpbLrR8EZpLFGCImSA-Yq_opPxradcgz0bZekptImZSNUBSrN6MkRpIzO22Fa7QHXKeIA3GdfUOBTFPwucBkcxY9c4B_eeE_Gmh_8khomMPDAHTRlxRXIfsSDH1x22liwKsYiDh18vuOLNF3lAkqlhPyePRjcpguSA7R=s0-l75-ft-l75-ft)\n",
        "  \n",
        "  \n",
        "  - Wyniki\n",
        "\n",
        "  Zauważmy, że otrzymaliśmy bardzo dobre wyniki. Model się nie przeuczył a wyniki kosztu są bardzo małe(wyniki błedu) oraz wyniki MSE są małe.\n",
        " \n",
        " [loss](https://gm1.ggpht.com/vT-VSAqV-S70hVUwzku9AYLB8WziIXUMo7jz6-2hkVcbNOSNjY_RK4A028i0rBlKrLsDq6X9aQ_OgpC23S0S-yomFdsSOJ1sl8Ge_qf_fICkkuP2pFi1EmwrE1slvb_86nOlOtlga0WazoP_3GuazhRb5y7O5AWVbbjgAAvxtWRIvhIogo3zUncBScnWYymsijWjG1Ig9uYGRuyTM5Sz644_lCp_yO6JqEuT31Dirnq7SdvCN_JsPgXYkAAhJBGw-xeU45m8k3CDw3gRTLWMt7zbIk4kh6g3fXXerjSowVpjhqd0B1qYP3-B3n8ev5X3c88t__SBT5sKYVxJz26URWGw9Mj77yiVlPvtAWaJKn3x2kzKzG2ajLuyycKfiJmOJ1UzbmfJtDY271rrBPfrG270y6PviPGYV-PrFNKRxLdw-xCXqN4mRWjJ0rjHf4tKApW8TA0eGRtVJR_Dsrmwa7VZJ0KTj_xbjYXO83CFA9w2UmJ6BiCW4EPe_A1V6Ic8mYUsNf-4Os_sY_CrYwj_SMH1TG78Ati_6znLoITneBndD3IsNaBacqQhncKV6tN94d1UtrsYDhdpdaoGOMIrV62LmUa5T4PFIgEJSkGzMf_zmTjEuDUCSAzUWEeozfHp02DfQdt37YAy61ga7t7i7pChiYJ2Zw7tuS9PlKFfXwMVROCoU3gk1X0DbZsRdHkWVlz4nbPTc8GVYux99QI3y7MM8qP9aqN8QXvpM__Q2ovjNP9HpFPRM0EOS4lv=s0-l75-ft-l75-ft)"
      ]
    },
    {
      "cell_type": "markdown",
      "metadata": {
        "id": "HmPWgHRfjzuD",
        "colab_type": "text"
      },
      "source": [
        "\n",
        "\n",
        "Jak robili inni ?\n",
        "\n",
        "Inni mieli dodane większa ilośc wartsw gęstości i większa ilośc neuronów.\n",
        "My zrobiliśmy odwrotnie i dodaliśmy funkcje wyrzucającą połowe informacji z neuronów uzyskując w ten sposób lepszy efekt. Miał on na celu nie przeuczyć modelu."
      ]
    },
    {
      "cell_type": "markdown",
      "metadata": {
        "id": "eFQCCroejzuF",
        "colab_type": "text"
      },
      "source": [
        "## Podsumowanie\n",
        "\n",
        "Dzięki modelowi udało nam się wyczyścic zaszumione obrazki. Zauważamy wysokie prawdopodobieństwa prawidłowego usunięcia brudu w danych treningowych. Po uzyskaniu wyników kosztu z danych testowych widzimy, że model się nie przeuczył i otrzymaliśmy wysokie prawdopodobienstwa kosztu.\n",
        "\n"
      ]
    }
  ]
}