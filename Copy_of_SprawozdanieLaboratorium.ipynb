{
  "nbformat": 4,
  "nbformat_minor": 0,
  "metadata": {
    "kernelspec": {
      "display_name": "Python 3",
      "language": "python",
      "name": "python3"
    },
    "language_info": {
      "codemirror_mode": {
        "name": "ipython",
        "version": 3
      },
      "file_extension": ".py",
      "mimetype": "text/x-python",
      "name": "python",
      "nbconvert_exporter": "python",
      "pygments_lexer": "ipython3",
      "version": "3.7.4"
    },
    "colab": {
      "name": "Copy of SprawozdanieLaboratorium.ipynb",
      "provenance": []
    }
  },
  "cells": [
    {
      "cell_type": "markdown",
      "metadata": {
        "id": "OUArRiJUjztm",
        "colab_type": "text"
      },
      "source": [
        "# Sprawozdanie z laboratorium - sieci neuronowe\n",
        "\n",
        "Temat: Usuwanie szumu z obrazków\n",
        "\n",
        "Skład grupy: Anna Cieszyńska, Karolina Borzym, Ewa Bojke"
      ]
    },
    {
      "cell_type": "markdown",
      "metadata": {
        "id": "P-TtarhYjztv",
        "colab_type": "text"
      },
      "source": [
        "## Opis zadania\n",
        "\n",
        "- Na czym polega zadanie?\n",
        "\n",
        " Zadanie polega na usunięciu szumu z obrazków mając do dyspozycji zaszumione obrazki i wyczyszczone obrazki.\n",
        "\n",
        "- Jaki jest cel modelu?\n",
        "\n",
        "  Szukamy najlepszego dopasowania cech i znalezienia odszumionego obrazka za pomocą łaczenia cech w siec, potem nałożenia maski.\n",
        "\n",
        "- Wzór na konwulucję w sieciach neuronowych:\n",
        "![obrazek1](https://github.com/NNUG2019/lab/blob/master/sprawozdanie/obrazek2.png?raw=1)\n",
        "\n",
        "  W kontekście przetwarzania obrazów funkcja f jest dwuwymiarową macierzą  I      zawierającą wartości pikseli obrazu, zazwyczaj ma ona duże wymiary np.        600x400px, natomiast funkcja g, nasz filtr, jest zdecydowanie mniejszą macierzą K (zwaną convolution kernel) o rozmiarach h×w np. 3x3px, 5x5px itp.\n",
        "\n",
        "\n",
        "- Wzór ogólny na obliczenie wielkości warstwy wynikowej konwolucji:\n",
        "![obrazek2](https://github.com/NNUG2019/lab/blob/master/sprawozdanie/obrazek2.png?raw=1)\n",
        "\n",
        "\n",
        "- O nasz szukany wynik -> wielkość obiektu wyjściowego\n",
        "- W wielkość obiektu wejściowego\n",
        "- K wielkość filtra (dla filtra 5x5 to będzie 5)\n",
        "- P wielkość zerowego brzegu z jednej strony (dlatego jest 2P dla obu stron)\n",
        "- S to wielkość przesunięcia/kroku\n",
        "\n",
        "\n",
        "\n"
      ]
    },
    {
      "cell_type": "markdown",
      "metadata": {
        "id": "X9vWhgZJjzt7",
        "colab_type": "text"
      },
      "source": [
        "## Dane\n",
        "\n",
        "Opis badania danych - część 1 projektu."
      ]
    },
    {
      "cell_type": "markdown",
      "metadata": {
        "id": "ikrcFhuljzt9",
        "colab_type": "text"
      },
      "source": [
        "### Źródła danych\n",
        "\n",
        "- Skąd są dane? Czy są publicznie dostępne, jeżeli tak to skąd można je uzyskać.\n",
        "\n",
        "  Jeżeli były wygenerowane samodzielnie, to jak powtórzyć ten proces.\n",
        "\n",
        "  Dane pobrane są ze strony kaggle.com. Mieliśmy tam foldery ze zdjęciami zaszumionymi,wyczyszczonymi,testowymi.Są publicznie dostępne.\n",
        "\n",
        "  \n",
        "\n"
      ]
    },
    {
      "cell_type": "markdown",
      "metadata": {
        "id": "oFDUDDbRjzuC",
        "colab_type": "text"
      },
      "source": [
        "## Model\n",
        "\n",
        "### Opis\n",
        "- Rodzaj sieci neuronowej (i dlaczego)\n",
        "  \n",
        "  Jest to sieć konwolucyjna(CNN). Pomaga nam wydobyc cechy obiektow widocznych    na zdjęciu. W naszym przypadku są to litery alfabetu.\n",
        "\n",
        "- Architektura są to warstwy gęstości.\n",
        "\n",
        "- Hiperparametry, funkcja kosztu \n",
        "\n",
        "  Hiperparametry są to ilosc neuronow (256,128), kernel(32 cechy, macierz 3x3),   ilosc epok(10),ilosc warstw gestosci(3), rodzaj f.aktywacji (\"relu\").\n",
        "  Parametry to wagi ktorych uczy sie model.\n",
        "\n",
        "### Działanie\n",
        "\n",
        "- Jak uruchomić model?\n",
        "\n",
        "  Mierzymy poziom zaszumienialicząc MSE pomiędzy czystym zdjęciem a       zaszumionym. Im mniejsze MSE tym dokładniejszy mamy model.\n",
        "- Testy\n",
        "- Wyniki"
      ]
    },
    {
      "cell_type": "markdown",
      "metadata": {
        "id": "HmPWgHRfjzuD",
        "colab_type": "text"
      },
      "source": [
        "### Jak robili inni (jeżeli pasuje do zadania)\n",
        "\n",
        "Inni mieli dodane większa ilośc wartsw gęstości i większa ilośc neuronów.\n",
        "My zrobiliśmy odwrotnie i dodaliśmy funkcje wyrzucającą połowe informacji z neuronów uzyskując w ten sposób lepszy efekt. Miał on na celu nie przeuczyć modelu."
      ]
    },
    {
      "cell_type": "markdown",
      "metadata": {
        "id": "eFQCCroejzuF",
        "colab_type": "text"
      },
      "source": [
        "## Podsumowanie\n",
        "\n",
        "Dzięki modelowi udało nam się wyczyścic zaszumione obrazki. Zauważamy wysokie prawdopodobieństwa prawidłowego usunięcia brudu w danych treningowych. Po uzyskaniu wyników kosztu z danych testowych widzimy, że model się nie przeuczył i otrzymaliśmy wysokie prawdopodobienstwa kosztu."
      ]
    }
  ]
}